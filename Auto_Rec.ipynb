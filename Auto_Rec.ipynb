{
 "cells": [
  {
   "cell_type": "code",
   "execution_count": null,
   "metadata": {},
   "outputs": [],
   "source": []
  },
  {
   "cell_type": "code",
   "execution_count": 29,
   "metadata": {},
   "outputs": [
    {
     "name": "stdout",
     "output_type": "stream",
     "text": [
      "List of recylcled items: 21\n",
      "Aluminum: 12\n",
      "Plastic: 9 \n",
      "\n",
      "Items in trash:  3\n"
     ]
    }
   ],
   "source": [
    "import xlrd\n",
    "import pandas as pd\n",
    "\n",
    "class Trash:\n",
    "    def __init__(self, volume, weight, temp):\n",
    "        self.volume = volume\n",
    "        self.weight = weight\n",
    "        self.temp = temp\n",
    "        \n",
    "        \n",
    "                        \n",
    "#max weight and volume to determine if item can be recycled or not, since the size of the recycling chamber is limited\n",
    "max_vol = 2000\n",
    "max_weight = 100\n",
    "    \n",
    "#temperatures for specific heat\n",
    "\n",
    "specific_temp = {'Aluminum': 0.87, 'Plastic': 1.67, 'Paper': 1.34}\n",
    "\n",
    "#each trash object will be added to the list; throwing waste/garbage away into a trash can\n",
    "items = []\n",
    "trash = []\n",
    "plast_rec = []\n",
    "alum_rec = []\n",
    "    \n",
    "# Assign spreadsheet filename: file\n",
    "file = 'trash_data.xlsx'\n",
    "\n",
    "# Load spreadsheet: xl\n",
    "xl = pd.ExcelFile(file)\n",
    "\n",
    "#parsing file to get data cells\n",
    "df = xl.parse('Sheet2')\n",
    "\n",
    "for idx in df.index:\n",
    "    volume = df.iloc[idx]['Volume (mL)']\n",
    "    weight = df.iloc[idx]['Weights (g)']\n",
    "    temp = df.iloc[idx]['Specific Heat kl/kg K']\n",
    "        \n",
    "    #assign properties form scale to the first item\n",
    "    item = Trash(volume, weight, temp)\n",
    "    items.append(item)\n",
    "\n",
    "    \n",
    "#iterating through the items in the trash can \n",
    "for item in items:\n",
    "    #process no.1 --> Displacement Level\n",
    "    if item.volume > max_vol:\n",
    "        trash.append(item)\n",
    "    #items moves to process no.2 (if volume is met) ---> Mass Level\n",
    "    else:\n",
    "        if item.weight > max_weight:\n",
    "            trash.append(item)\n",
    "        #item moves to process no.3 (if weight is met) ---> Specific Heat Level\n",
    "        else: \n",
    "            #going through temperature values in dictionary\n",
    "            for i in specific_temp.values():\n",
    "                if item.temp == i:\n",
    "                    #aluminum\n",
    "                    if i == 0.87:\n",
    "                        alum_rec.append(item)\n",
    "                    #plastic\n",
    "                    else:\n",
    "                        plast_rec.append(item)\n",
    "                        \n",
    "                        \n",
    "                        \n",
    "                \n",
    "            \n",
    "        \n",
    "print(\"List of recylcled items:\", len(alum_rec) + len(plast_rec)) \n",
    "print(\"Aluminum:\", len(alum_rec))\n",
    "print(\"Plastic:\", len(plast_rec), \"\\n\")\n",
    "print(\"Items in trash: \", len(trash))\n",
    "        \n",
    "        \n",
    "\n"
   ]
  },
  {
   "cell_type": "code",
   "execution_count": null,
   "metadata": {},
   "outputs": [],
   "source": []
  }
 ],
 "metadata": {
  "kernelspec": {
   "display_name": "Python 3",
   "language": "python",
   "name": "python3"
  },
  "language_info": {
   "codemirror_mode": {
    "name": "ipython",
    "version": 3
   },
   "file_extension": ".py",
   "mimetype": "text/x-python",
   "name": "python",
   "nbconvert_exporter": "python",
   "pygments_lexer": "ipython3",
   "version": "3.7.3"
  }
 },
 "nbformat": 4,
 "nbformat_minor": 2
}
